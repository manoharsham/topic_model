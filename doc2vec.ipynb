{
  "nbformat": 4,
  "nbformat_minor": 0,
  "metadata": {
    "colab": {
      "name": "doc2vec.ipynb",
      "provenance": [],
      "collapsed_sections": [],
      "include_colab_link": true
    },
    "kernelspec": {
      "name": "python3",
      "display_name": "Python 3"
    },
    "widgets": {
      "application/vnd.jupyter.widget-state+json": {
        "eb53b6c54e7d4c43b979eac72efc5836": {
          "model_module": "@jupyter-widgets/controls",
          "model_name": "HBoxModel",
          "state": {
            "_view_name": "HBoxView",
            "_dom_classes": [],
            "_model_name": "HBoxModel",
            "_view_module": "@jupyter-widgets/controls",
            "_model_module_version": "1.5.0",
            "_view_count": null,
            "_view_module_version": "1.5.0",
            "box_style": "",
            "layout": "IPY_MODEL_0e6968535c304e2f9c32edd6b6e9fc7a",
            "_model_module": "@jupyter-widgets/controls",
            "children": [
              "IPY_MODEL_44706da1106d441baf9091cf96457b9c",
              "IPY_MODEL_fc995e4257b14fc692509ca42004f445"
            ]
          }
        },
        "0e6968535c304e2f9c32edd6b6e9fc7a": {
          "model_module": "@jupyter-widgets/base",
          "model_name": "LayoutModel",
          "state": {
            "_view_name": "LayoutView",
            "grid_template_rows": null,
            "right": null,
            "justify_content": null,
            "_view_module": "@jupyter-widgets/base",
            "overflow": null,
            "_model_module_version": "1.2.0",
            "_view_count": null,
            "flex_flow": null,
            "width": null,
            "min_width": null,
            "border": null,
            "align_items": null,
            "bottom": null,
            "_model_module": "@jupyter-widgets/base",
            "top": null,
            "grid_column": null,
            "overflow_y": null,
            "overflow_x": null,
            "grid_auto_flow": null,
            "grid_area": null,
            "grid_template_columns": null,
            "flex": null,
            "_model_name": "LayoutModel",
            "justify_items": null,
            "grid_row": null,
            "max_height": null,
            "align_content": null,
            "visibility": null,
            "align_self": null,
            "height": null,
            "min_height": null,
            "padding": null,
            "grid_auto_rows": null,
            "grid_gap": null,
            "max_width": null,
            "order": null,
            "_view_module_version": "1.2.0",
            "grid_template_areas": null,
            "object_position": null,
            "object_fit": null,
            "grid_auto_columns": null,
            "margin": null,
            "display": null,
            "left": null
          }
        },
        "44706da1106d441baf9091cf96457b9c": {
          "model_module": "@jupyter-widgets/controls",
          "model_name": "FloatProgressModel",
          "state": {
            "_view_name": "ProgressView",
            "style": "IPY_MODEL_f44a1c5486d0492091e0a1812356dd7b",
            "_dom_classes": [],
            "description": "",
            "_model_name": "FloatProgressModel",
            "bar_style": "success",
            "max": 20,
            "_view_module": "@jupyter-widgets/controls",
            "_model_module_version": "1.5.0",
            "value": 20,
            "_view_count": null,
            "_view_module_version": "1.5.0",
            "orientation": "horizontal",
            "min": 0,
            "description_tooltip": null,
            "_model_module": "@jupyter-widgets/controls",
            "layout": "IPY_MODEL_c03d2a18d9334fd69a0168546bb81524"
          }
        },
        "fc995e4257b14fc692509ca42004f445": {
          "model_module": "@jupyter-widgets/controls",
          "model_name": "HTMLModel",
          "state": {
            "_view_name": "HTMLView",
            "style": "IPY_MODEL_4a1a8483e694403fb12658084ad38c4f",
            "_dom_classes": [],
            "description": "",
            "_model_name": "HTMLModel",
            "placeholder": "​",
            "_view_module": "@jupyter-widgets/controls",
            "_model_module_version": "1.5.0",
            "value": " 21/? [15:09&lt;00:00, 43.29s/it]",
            "_view_count": null,
            "_view_module_version": "1.5.0",
            "description_tooltip": null,
            "_model_module": "@jupyter-widgets/controls",
            "layout": "IPY_MODEL_d3ab26d58bdf44f2ab3a0bf17cec6b60"
          }
        },
        "f44a1c5486d0492091e0a1812356dd7b": {
          "model_module": "@jupyter-widgets/controls",
          "model_name": "ProgressStyleModel",
          "state": {
            "_view_name": "StyleView",
            "_model_name": "ProgressStyleModel",
            "description_width": "initial",
            "_view_module": "@jupyter-widgets/base",
            "_model_module_version": "1.5.0",
            "_view_count": null,
            "_view_module_version": "1.2.0",
            "bar_color": null,
            "_model_module": "@jupyter-widgets/controls"
          }
        },
        "c03d2a18d9334fd69a0168546bb81524": {
          "model_module": "@jupyter-widgets/base",
          "model_name": "LayoutModel",
          "state": {
            "_view_name": "LayoutView",
            "grid_template_rows": null,
            "right": null,
            "justify_content": null,
            "_view_module": "@jupyter-widgets/base",
            "overflow": null,
            "_model_module_version": "1.2.0",
            "_view_count": null,
            "flex_flow": null,
            "width": null,
            "min_width": null,
            "border": null,
            "align_items": null,
            "bottom": null,
            "_model_module": "@jupyter-widgets/base",
            "top": null,
            "grid_column": null,
            "overflow_y": null,
            "overflow_x": null,
            "grid_auto_flow": null,
            "grid_area": null,
            "grid_template_columns": null,
            "flex": null,
            "_model_name": "LayoutModel",
            "justify_items": null,
            "grid_row": null,
            "max_height": null,
            "align_content": null,
            "visibility": null,
            "align_self": null,
            "height": null,
            "min_height": null,
            "padding": null,
            "grid_auto_rows": null,
            "grid_gap": null,
            "max_width": null,
            "order": null,
            "_view_module_version": "1.2.0",
            "grid_template_areas": null,
            "object_position": null,
            "object_fit": null,
            "grid_auto_columns": null,
            "margin": null,
            "display": null,
            "left": null
          }
        },
        "4a1a8483e694403fb12658084ad38c4f": {
          "model_module": "@jupyter-widgets/controls",
          "model_name": "DescriptionStyleModel",
          "state": {
            "_view_name": "StyleView",
            "_model_name": "DescriptionStyleModel",
            "description_width": "",
            "_view_module": "@jupyter-widgets/base",
            "_model_module_version": "1.5.0",
            "_view_count": null,
            "_view_module_version": "1.2.0",
            "_model_module": "@jupyter-widgets/controls"
          }
        },
        "d3ab26d58bdf44f2ab3a0bf17cec6b60": {
          "model_module": "@jupyter-widgets/base",
          "model_name": "LayoutModel",
          "state": {
            "_view_name": "LayoutView",
            "grid_template_rows": null,
            "right": null,
            "justify_content": null,
            "_view_module": "@jupyter-widgets/base",
            "overflow": null,
            "_model_module_version": "1.2.0",
            "_view_count": null,
            "flex_flow": null,
            "width": null,
            "min_width": null,
            "border": null,
            "align_items": null,
            "bottom": null,
            "_model_module": "@jupyter-widgets/base",
            "top": null,
            "grid_column": null,
            "overflow_y": null,
            "overflow_x": null,
            "grid_auto_flow": null,
            "grid_area": null,
            "grid_template_columns": null,
            "flex": null,
            "_model_name": "LayoutModel",
            "justify_items": null,
            "grid_row": null,
            "max_height": null,
            "align_content": null,
            "visibility": null,
            "align_self": null,
            "height": null,
            "min_height": null,
            "padding": null,
            "grid_auto_rows": null,
            "grid_gap": null,
            "max_width": null,
            "order": null,
            "_view_module_version": "1.2.0",
            "grid_template_areas": null,
            "object_position": null,
            "object_fit": null,
            "grid_auto_columns": null,
            "margin": null,
            "display": null,
            "left": null
          }
        },
        "2dcd8a809cc4473e996eae750579d098": {
          "model_module": "@jupyter-widgets/controls",
          "model_name": "HBoxModel",
          "state": {
            "_view_name": "HBoxView",
            "_dom_classes": [],
            "_model_name": "HBoxModel",
            "_view_module": "@jupyter-widgets/controls",
            "_model_module_version": "1.5.0",
            "_view_count": null,
            "_view_module_version": "1.5.0",
            "box_style": "",
            "layout": "IPY_MODEL_64726dbc39b343ccaf740899a02e2d7d",
            "_model_module": "@jupyter-widgets/controls",
            "children": [
              "IPY_MODEL_28851c31aa4c4696a3c1739e905da750",
              "IPY_MODEL_bb4965baea0c444f9b31d14ac004ac12"
            ]
          }
        },
        "64726dbc39b343ccaf740899a02e2d7d": {
          "model_module": "@jupyter-widgets/base",
          "model_name": "LayoutModel",
          "state": {
            "_view_name": "LayoutView",
            "grid_template_rows": null,
            "right": null,
            "justify_content": null,
            "_view_module": "@jupyter-widgets/base",
            "overflow": null,
            "_model_module_version": "1.2.0",
            "_view_count": null,
            "flex_flow": null,
            "width": null,
            "min_width": null,
            "border": null,
            "align_items": null,
            "bottom": null,
            "_model_module": "@jupyter-widgets/base",
            "top": null,
            "grid_column": null,
            "overflow_y": null,
            "overflow_x": null,
            "grid_auto_flow": null,
            "grid_area": null,
            "grid_template_columns": null,
            "flex": null,
            "_model_name": "LayoutModel",
            "justify_items": null,
            "grid_row": null,
            "max_height": null,
            "align_content": null,
            "visibility": null,
            "align_self": null,
            "height": null,
            "min_height": null,
            "padding": null,
            "grid_auto_rows": null,
            "grid_gap": null,
            "max_width": null,
            "order": null,
            "_view_module_version": "1.2.0",
            "grid_template_areas": null,
            "object_position": null,
            "object_fit": null,
            "grid_auto_columns": null,
            "margin": null,
            "display": null,
            "left": null
          }
        },
        "28851c31aa4c4696a3c1739e905da750": {
          "model_module": "@jupyter-widgets/controls",
          "model_name": "FloatProgressModel",
          "state": {
            "_view_name": "ProgressView",
            "style": "IPY_MODEL_8a38eefaadbd4554b0218db85d5ac92e",
            "_dom_classes": [],
            "description": "",
            "_model_name": "FloatProgressModel",
            "bar_style": "success",
            "max": 517,
            "_view_module": "@jupyter-widgets/controls",
            "_model_module_version": "1.5.0",
            "value": 517,
            "_view_count": null,
            "_view_module_version": "1.5.0",
            "orientation": "horizontal",
            "min": 0,
            "description_tooltip": null,
            "_model_module": "@jupyter-widgets/controls",
            "layout": "IPY_MODEL_70ef0904fe494790802f05e8d0d3289f"
          }
        },
        "bb4965baea0c444f9b31d14ac004ac12": {
          "model_module": "@jupyter-widgets/controls",
          "model_name": "HTMLModel",
          "state": {
            "_view_name": "HTMLView",
            "style": "IPY_MODEL_aab71cf94923495cbce65c51009fe4a5",
            "_dom_classes": [],
            "description": "",
            "_model_name": "HTMLModel",
            "placeholder": "​",
            "_view_module": "@jupyter-widgets/controls",
            "_model_module_version": "1.5.0",
            "value": " 518/? [03:59&lt;00:00,  2.16it/s]",
            "_view_count": null,
            "_view_module_version": "1.5.0",
            "description_tooltip": null,
            "_model_module": "@jupyter-widgets/controls",
            "layout": "IPY_MODEL_0f304fea935e41ffb11e0a5bc86d5596"
          }
        },
        "8a38eefaadbd4554b0218db85d5ac92e": {
          "model_module": "@jupyter-widgets/controls",
          "model_name": "ProgressStyleModel",
          "state": {
            "_view_name": "StyleView",
            "_model_name": "ProgressStyleModel",
            "description_width": "initial",
            "_view_module": "@jupyter-widgets/base",
            "_model_module_version": "1.5.0",
            "_view_count": null,
            "_view_module_version": "1.2.0",
            "bar_color": null,
            "_model_module": "@jupyter-widgets/controls"
          }
        },
        "70ef0904fe494790802f05e8d0d3289f": {
          "model_module": "@jupyter-widgets/base",
          "model_name": "LayoutModel",
          "state": {
            "_view_name": "LayoutView",
            "grid_template_rows": null,
            "right": null,
            "justify_content": null,
            "_view_module": "@jupyter-widgets/base",
            "overflow": null,
            "_model_module_version": "1.2.0",
            "_view_count": null,
            "flex_flow": null,
            "width": null,
            "min_width": null,
            "border": null,
            "align_items": null,
            "bottom": null,
            "_model_module": "@jupyter-widgets/base",
            "top": null,
            "grid_column": null,
            "overflow_y": null,
            "overflow_x": null,
            "grid_auto_flow": null,
            "grid_area": null,
            "grid_template_columns": null,
            "flex": null,
            "_model_name": "LayoutModel",
            "justify_items": null,
            "grid_row": null,
            "max_height": null,
            "align_content": null,
            "visibility": null,
            "align_self": null,
            "height": null,
            "min_height": null,
            "padding": null,
            "grid_auto_rows": null,
            "grid_gap": null,
            "max_width": null,
            "order": null,
            "_view_module_version": "1.2.0",
            "grid_template_areas": null,
            "object_position": null,
            "object_fit": null,
            "grid_auto_columns": null,
            "margin": null,
            "display": null,
            "left": null
          }
        },
        "aab71cf94923495cbce65c51009fe4a5": {
          "model_module": "@jupyter-widgets/controls",
          "model_name": "DescriptionStyleModel",
          "state": {
            "_view_name": "StyleView",
            "_model_name": "DescriptionStyleModel",
            "description_width": "",
            "_view_module": "@jupyter-widgets/base",
            "_model_module_version": "1.5.0",
            "_view_count": null,
            "_view_module_version": "1.2.0",
            "_model_module": "@jupyter-widgets/controls"
          }
        },
        "0f304fea935e41ffb11e0a5bc86d5596": {
          "model_module": "@jupyter-widgets/base",
          "model_name": "LayoutModel",
          "state": {
            "_view_name": "LayoutView",
            "grid_template_rows": null,
            "right": null,
            "justify_content": null,
            "_view_module": "@jupyter-widgets/base",
            "overflow": null,
            "_model_module_version": "1.2.0",
            "_view_count": null,
            "flex_flow": null,
            "width": null,
            "min_width": null,
            "border": null,
            "align_items": null,
            "bottom": null,
            "_model_module": "@jupyter-widgets/base",
            "top": null,
            "grid_column": null,
            "overflow_y": null,
            "overflow_x": null,
            "grid_auto_flow": null,
            "grid_area": null,
            "grid_template_columns": null,
            "flex": null,
            "_model_name": "LayoutModel",
            "justify_items": null,
            "grid_row": null,
            "max_height": null,
            "align_content": null,
            "visibility": null,
            "align_self": null,
            "height": null,
            "min_height": null,
            "padding": null,
            "grid_auto_rows": null,
            "grid_gap": null,
            "max_width": null,
            "order": null,
            "_view_module_version": "1.2.0",
            "grid_template_areas": null,
            "object_position": null,
            "object_fit": null,
            "grid_auto_columns": null,
            "margin": null,
            "display": null,
            "left": null
          }
        },
        "540d9fc896c9407f84e99710f50f9a3c": {
          "model_module": "@jupyter-widgets/controls",
          "model_name": "HBoxModel",
          "state": {
            "_view_name": "HBoxView",
            "_dom_classes": [],
            "_model_name": "HBoxModel",
            "_view_module": "@jupyter-widgets/controls",
            "_model_module_version": "1.5.0",
            "_view_count": null,
            "_view_module_version": "1.5.0",
            "box_style": "",
            "layout": "IPY_MODEL_352647f7b4c0408ebe10256485eeb03b",
            "_model_module": "@jupyter-widgets/controls",
            "children": [
              "IPY_MODEL_2fe80487e0584a3ab1dbed6d265cbd56",
              "IPY_MODEL_bd3521b0a10e468cbcc0835cb2263e24"
            ]
          }
        },
        "352647f7b4c0408ebe10256485eeb03b": {
          "model_module": "@jupyter-widgets/base",
          "model_name": "LayoutModel",
          "state": {
            "_view_name": "LayoutView",
            "grid_template_rows": null,
            "right": null,
            "justify_content": null,
            "_view_module": "@jupyter-widgets/base",
            "overflow": null,
            "_model_module_version": "1.2.0",
            "_view_count": null,
            "flex_flow": null,
            "width": null,
            "min_width": null,
            "border": null,
            "align_items": null,
            "bottom": null,
            "_model_module": "@jupyter-widgets/base",
            "top": null,
            "grid_column": null,
            "overflow_y": null,
            "overflow_x": null,
            "grid_auto_flow": null,
            "grid_area": null,
            "grid_template_columns": null,
            "flex": null,
            "_model_name": "LayoutModel",
            "justify_items": null,
            "grid_row": null,
            "max_height": null,
            "align_content": null,
            "visibility": null,
            "align_self": null,
            "height": null,
            "min_height": null,
            "padding": null,
            "grid_auto_rows": null,
            "grid_gap": null,
            "max_width": null,
            "order": null,
            "_view_module_version": "1.2.0",
            "grid_template_areas": null,
            "object_position": null,
            "object_fit": null,
            "grid_auto_columns": null,
            "margin": null,
            "display": null,
            "left": null
          }
        },
        "2fe80487e0584a3ab1dbed6d265cbd56": {
          "model_module": "@jupyter-widgets/controls",
          "model_name": "FloatProgressModel",
          "state": {
            "_view_name": "ProgressView",
            "style": "IPY_MODEL_2ad485d4bd344daea960e426650a5da5",
            "_dom_classes": [],
            "description": "",
            "_model_name": "FloatProgressModel",
            "bar_style": "success",
            "max": 225,
            "_view_module": "@jupyter-widgets/controls",
            "_model_module_version": "1.5.0",
            "value": 225,
            "_view_count": null,
            "_view_module_version": "1.5.0",
            "orientation": "horizontal",
            "min": 0,
            "description_tooltip": null,
            "_model_module": "@jupyter-widgets/controls",
            "layout": "IPY_MODEL_0bb170744ea34675a00405a5ce727fd2"
          }
        },
        "bd3521b0a10e468cbcc0835cb2263e24": {
          "model_module": "@jupyter-widgets/controls",
          "model_name": "HTMLModel",
          "state": {
            "_view_name": "HTMLView",
            "style": "IPY_MODEL_cf6659418ce84a3097ac40e39c033088",
            "_dom_classes": [],
            "description": "",
            "_model_name": "HTMLModel",
            "placeholder": "​",
            "_view_module": "@jupyter-widgets/controls",
            "_model_module_version": "1.5.0",
            "value": " 226/? [00:26&lt;00:00,  8.50it/s]",
            "_view_count": null,
            "_view_module_version": "1.5.0",
            "description_tooltip": null,
            "_model_module": "@jupyter-widgets/controls",
            "layout": "IPY_MODEL_241585d484a04c45b33594780a5b1350"
          }
        },
        "2ad485d4bd344daea960e426650a5da5": {
          "model_module": "@jupyter-widgets/controls",
          "model_name": "ProgressStyleModel",
          "state": {
            "_view_name": "StyleView",
            "_model_name": "ProgressStyleModel",
            "description_width": "initial",
            "_view_module": "@jupyter-widgets/base",
            "_model_module_version": "1.5.0",
            "_view_count": null,
            "_view_module_version": "1.2.0",
            "bar_color": null,
            "_model_module": "@jupyter-widgets/controls"
          }
        },
        "0bb170744ea34675a00405a5ce727fd2": {
          "model_module": "@jupyter-widgets/base",
          "model_name": "LayoutModel",
          "state": {
            "_view_name": "LayoutView",
            "grid_template_rows": null,
            "right": null,
            "justify_content": null,
            "_view_module": "@jupyter-widgets/base",
            "overflow": null,
            "_model_module_version": "1.2.0",
            "_view_count": null,
            "flex_flow": null,
            "width": null,
            "min_width": null,
            "border": null,
            "align_items": null,
            "bottom": null,
            "_model_module": "@jupyter-widgets/base",
            "top": null,
            "grid_column": null,
            "overflow_y": null,
            "overflow_x": null,
            "grid_auto_flow": null,
            "grid_area": null,
            "grid_template_columns": null,
            "flex": null,
            "_model_name": "LayoutModel",
            "justify_items": null,
            "grid_row": null,
            "max_height": null,
            "align_content": null,
            "visibility": null,
            "align_self": null,
            "height": null,
            "min_height": null,
            "padding": null,
            "grid_auto_rows": null,
            "grid_gap": null,
            "max_width": null,
            "order": null,
            "_view_module_version": "1.2.0",
            "grid_template_areas": null,
            "object_position": null,
            "object_fit": null,
            "grid_auto_columns": null,
            "margin": null,
            "display": null,
            "left": null
          }
        },
        "cf6659418ce84a3097ac40e39c033088": {
          "model_module": "@jupyter-widgets/controls",
          "model_name": "DescriptionStyleModel",
          "state": {
            "_view_name": "StyleView",
            "_model_name": "DescriptionStyleModel",
            "description_width": "",
            "_view_module": "@jupyter-widgets/base",
            "_model_module_version": "1.5.0",
            "_view_count": null,
            "_view_module_version": "1.2.0",
            "_model_module": "@jupyter-widgets/controls"
          }
        },
        "241585d484a04c45b33594780a5b1350": {
          "model_module": "@jupyter-widgets/base",
          "model_name": "LayoutModel",
          "state": {
            "_view_name": "LayoutView",
            "grid_template_rows": null,
            "right": null,
            "justify_content": null,
            "_view_module": "@jupyter-widgets/base",
            "overflow": null,
            "_model_module_version": "1.2.0",
            "_view_count": null,
            "flex_flow": null,
            "width": null,
            "min_width": null,
            "border": null,
            "align_items": null,
            "bottom": null,
            "_model_module": "@jupyter-widgets/base",
            "top": null,
            "grid_column": null,
            "overflow_y": null,
            "overflow_x": null,
            "grid_auto_flow": null,
            "grid_area": null,
            "grid_template_columns": null,
            "flex": null,
            "_model_name": "LayoutModel",
            "justify_items": null,
            "grid_row": null,
            "max_height": null,
            "align_content": null,
            "visibility": null,
            "align_self": null,
            "height": null,
            "min_height": null,
            "padding": null,
            "grid_auto_rows": null,
            "grid_gap": null,
            "max_width": null,
            "order": null,
            "_view_module_version": "1.2.0",
            "grid_template_areas": null,
            "object_position": null,
            "object_fit": null,
            "grid_auto_columns": null,
            "margin": null,
            "display": null,
            "left": null
          }
        }
      }
    }
  },
  "cells": [
    {
      "cell_type": "markdown",
      "metadata": {
        "id": "view-in-github",
        "colab_type": "text"
      },
      "source": [
        "<a href=\"https://colab.research.google.com/github/manoharsham/topic_model/blob/master/doc2vec.ipynb\" target=\"_parent\"><img src=\"https://colab.research.google.com/assets/colab-badge.svg\" alt=\"Open In Colab\"/></a>"
      ]
    },
    {
      "cell_type": "markdown",
      "metadata": {
        "id": "015s1NDe-IKc",
        "colab_type": "text"
      },
      "source": [
        "**Topic Modeling in Python**\n",
        "\n",
        "It's a method to extract hidden topics from a document/corpus and label certain parts of it. This helps to segment a document to certain topics for different users. It is helpful for summarization, improving customer support, SEO and many more."
      ]
    },
    {
      "cell_type": "markdown",
      "metadata": {
        "id": "HrYyvlu9au1P",
        "colab_type": "text"
      },
      "source": [
        "## Setup the Environment"
      ]
    },
    {
      "cell_type": "code",
      "metadata": {
        "id": "dYAQaX9abu6Y",
        "colab_type": "code",
        "colab": {}
      },
      "source": [
        "# Get code and data from GitHub repo\n",
        "# This notebook is also part of the repo\n",
        "!wget -q https://github.com/DevopediaOrg/related-articles/archive/master.zip"
      ],
      "execution_count": 27,
      "outputs": []
    },
    {
      "cell_type": "code",
      "metadata": {
        "id": "eSONiomgZPEa",
        "colab_type": "code",
        "colab": {}
      },
      "source": [
        "!unzip -oq master.zip"
      ],
      "execution_count": 28,
      "outputs": []
    },
    {
      "cell_type": "code",
      "metadata": {
        "id": "CHlxNyNVZU4n",
        "colab_type": "code",
        "colab": {
          "base_uri": "https://localhost:8080/",
          "height": 69
        },
        "outputId": "0c799af6-da8e-49d1-ec42-647cc4bbb308"
      },
      "source": [
        "# Install necessary Python packages\n",
        "!mv related-articles-master/* .\n",
        "!rm -rf related-articles-master\n",
        "!pip install -q -r requirements.txt"
      ],
      "execution_count": 29,
      "outputs": [
        {
          "output_type": "stream",
          "text": [
            "mv: cannot move 'related-articles-master/data' to './data': Directory not empty\n",
            "mv: cannot move 'related-articles-master/libs' to './libs': Directory not empty\n",
            "mv: cannot move 'related-articles-master/scripts' to './scripts': Directory not empty\n"
          ],
          "name": "stdout"
        }
      ]
    },
    {
      "cell_type": "code",
      "metadata": {
        "id": "2h8wEjYGbXJs",
        "colab_type": "code",
        "colab": {
          "base_uri": "https://localhost:8080/",
          "height": 35
        },
        "outputId": "1e84d0bf-dda8-47c7-e373-6747610b3ca4"
      },
      "source": [
        "# Connect to Google Drive to save persistent data\n",
        "from google.colab import drive\n",
        "drive.mount('/content/gdrive')"
      ],
      "execution_count": 30,
      "outputs": [
        {
          "output_type": "stream",
          "text": [
            "Drive already mounted at /content/gdrive; to attempt to forcibly remount, call drive.mount(\"/content/gdrive\", force_remount=True).\n"
          ],
          "name": "stdout"
        }
      ]
    },
    {
      "cell_type": "markdown",
      "metadata": {
        "id": "dpmWQIgnb-sf",
        "colab_type": "text"
      },
      "source": [
        "## Initializations"
      ]
    },
    {
      "cell_type": "code",
      "metadata": {
        "id": "XLptxMwIcRhP",
        "colab_type": "code",
        "colab": {}
      },
      "source": [
        "# Convert to command line arguments when porting to production script\n",
        "NUM_OF_TRAIN = 400\n",
        "NUM_OF_DEVOPEDIA_ARTICLES = 225\n",
        "FULL_DEVO_TRAIN = True\n",
        "ALPHA_STEP = 0.001\n",
        "MIN_ALPHA = 0.000125\n",
        "MAX_EPOCHS = 20\n",
        "EMB_DIM = 50\n",
        "DEBUG_LEVEL = 2\n",
        "alpha = 0.025"
      ],
      "execution_count": 31,
      "outputs": []
    },
    {
      "cell_type": "markdown",
      "metadata": {
        "id": "5RIuq8oacnMS",
        "colab_type": "text"
      },
      "source": [
        "## Read and Explore the Data"
      ]
    },
    {
      "cell_type": "code",
      "metadata": {
        "id": "DSz6cduHeyoA",
        "colab_type": "code",
        "colab": {}
      },
      "source": [
        "import libs.utils as utils\n",
        "\n",
        "data = utils.read_json_file('/content/gdrive/My Drive/devodoc_full2.json')"
      ],
      "execution_count": 32,
      "outputs": []
    },
    {
      "cell_type": "code",
      "metadata": {
        "id": "pW0n32WNtiTY",
        "colab_type": "code",
        "colab": {}
      },
      "source": [
        "# Convert lists to tuples\n",
        "# We have a dict of lists of (strings or lists)\n",
        "for k, v in data.items():\n",
        "  if isinstance(v[0], list):\n",
        "    for i, item in enumerate(v):\n",
        "      v[i] = tuple(item)\n",
        "  data[k] = tuple(v)"
      ],
      "execution_count": 33,
      "outputs": []
    },
    {
      "cell_type": "code",
      "metadata": {
        "id": "TOTC3VvPtVHi",
        "colab_type": "code",
        "colab": {}
      },
      "source": [
        "# Explore data to check for unexpected values\n",
        "import pandas as pd\n",
        "\n",
        "df = pd.DataFrame.from_dict(data, orient='index').transpose()"
      ],
      "execution_count": 34,
      "outputs": []
    },
    {
      "cell_type": "code",
      "metadata": {
        "id": "6a8zC5lv2N-a",
        "colab_type": "code",
        "colab": {
          "base_uri": "https://localhost:8080/",
          "height": 168
        },
        "outputId": "53220438-ea5d-490a-fb0c-3016c9fb2330"
      },
      "source": [
        "df.describe()"
      ],
      "execution_count": 35,
      "outputs": [
        {
          "output_type": "execute_result",
          "data": {
            "text/html": [
              "<div>\n",
              "<style scoped>\n",
              "    .dataframe tbody tr th:only-of-type {\n",
              "        vertical-align: middle;\n",
              "    }\n",
              "\n",
              "    .dataframe tbody tr th {\n",
              "        vertical-align: top;\n",
              "    }\n",
              "\n",
              "    .dataframe thead th {\n",
              "        text-align: right;\n",
              "    }\n",
              "</style>\n",
              "<table border=\"1\" class=\"dataframe\">\n",
              "  <thead>\n",
              "    <tr style=\"text-align: right;\">\n",
              "      <th></th>\n",
              "      <th>title</th>\n",
              "      <th>text</th>\n",
              "      <th>related</th>\n",
              "    </tr>\n",
              "  </thead>\n",
              "  <tbody>\n",
              "    <tr>\n",
              "      <th>count</th>\n",
              "      <td>517</td>\n",
              "      <td>517</td>\n",
              "      <td>517</td>\n",
              "    </tr>\n",
              "    <tr>\n",
              "      <th>unique</th>\n",
              "      <td>517</td>\n",
              "      <td>515</td>\n",
              "      <td>431</td>\n",
              "    </tr>\n",
              "    <tr>\n",
              "      <th>top</th>\n",
              "      <td>Software-Defined Networking</td>\n",
              "      <td>In signal processing, data compression, source...</td>\n",
              "      <td>(\\n,)</td>\n",
              "    </tr>\n",
              "    <tr>\n",
              "      <th>freq</th>\n",
              "      <td>1</td>\n",
              "      <td>2</td>\n",
              "      <td>47</td>\n",
              "    </tr>\n",
              "  </tbody>\n",
              "</table>\n",
              "</div>"
            ],
            "text/plain": [
              "                              title  ... related\n",
              "count                           517  ...     517\n",
              "unique                          517  ...     431\n",
              "top     Software-Defined Networking  ...   (\\n,)\n",
              "freq                              1  ...      47\n",
              "\n",
              "[4 rows x 3 columns]"
            ]
          },
          "metadata": {
            "tags": []
          },
          "execution_count": 35
        }
      ]
    },
    {
      "cell_type": "code",
      "metadata": {
        "id": "VBqeAQiMvqEW",
        "colab_type": "code",
        "colab": {
          "base_uri": "https://localhost:8080/",
          "height": 198
        },
        "outputId": "e41feb6a-53c4-456e-abd8-bd5bb53b9478"
      },
      "source": [
        "df.head()"
      ],
      "execution_count": 36,
      "outputs": [
        {
          "output_type": "execute_result",
          "data": {
            "text/html": [
              "<div>\n",
              "<style scoped>\n",
              "    .dataframe tbody tr th:only-of-type {\n",
              "        vertical-align: middle;\n",
              "    }\n",
              "\n",
              "    .dataframe tbody tr th {\n",
              "        vertical-align: top;\n",
              "    }\n",
              "\n",
              "    .dataframe thead th {\n",
              "        text-align: right;\n",
              "    }\n",
              "</style>\n",
              "<table border=\"1\" class=\"dataframe\">\n",
              "  <thead>\n",
              "    <tr style=\"text-align: right;\">\n",
              "      <th></th>\n",
              "      <th>title</th>\n",
              "      <th>text</th>\n",
              "      <th>related</th>\n",
              "    </tr>\n",
              "  </thead>\n",
              "  <tbody>\n",
              "    <tr>\n",
              "      <th>0</th>\n",
              "      <td>MQTT</td>\n",
              "      <td>MQTT is a **publish/subscribe** messaging tran...</td>\n",
              "      <td>(RabbitMQ, HiveMQ, Eclipse Mosquitto, Eclipse ...</td>\n",
              "    </tr>\n",
              "    <tr>\n",
              "      <th>1</th>\n",
              "      <td>HTTP/2</td>\n",
              "      <td>HTTP/2 is an alternative to HTTP/1.x that has ...</td>\n",
              "      <td>(HTTP/3, SPDY, HPACK, HTTP Pipelining, Domain ...</td>\n",
              "    </tr>\n",
              "    <tr>\n",
              "      <th>2</th>\n",
              "      <td>Tensor Processing Unit</td>\n",
              "      <td>![image](5335.1531331342.png \"TPU block diagra...</td>\n",
              "      <td>(AI Accelerator, Machine Learning, Deep Learni...</td>\n",
              "    </tr>\n",
              "    <tr>\n",
              "      <th>3</th>\n",
              "      <td>Li-Fi</td>\n",
              "      <td>Li-Fi, or Light Fidelity, uses light as a medi...</td>\n",
              "      <td>(Solar Li-Fi, Visible Light Communication, Lig...</td>\n",
              "    </tr>\n",
              "    <tr>\n",
              "      <th>4</th>\n",
              "      <td>Race Condition (Software)</td>\n",
              "      <td>Race condition in software is an undesirable e...</td>\n",
              "      <td>(Race Condition (Hardware), Concurrent Computi...</td>\n",
              "    </tr>\n",
              "  </tbody>\n",
              "</table>\n",
              "</div>"
            ],
            "text/plain": [
              "                       title  ...                                            related\n",
              "0                       MQTT  ...  (RabbitMQ, HiveMQ, Eclipse Mosquitto, Eclipse ...\n",
              "1                     HTTP/2  ...  (HTTP/3, SPDY, HPACK, HTTP Pipelining, Domain ...\n",
              "2     Tensor Processing Unit  ...  (AI Accelerator, Machine Learning, Deep Learni...\n",
              "3                      Li-Fi  ...  (Solar Li-Fi, Visible Light Communication, Lig...\n",
              "4  Race Condition (Software)  ...  (Race Condition (Hardware), Concurrent Computi...\n",
              "\n",
              "[5 rows x 3 columns]"
            ]
          },
          "metadata": {
            "tags": []
          },
          "execution_count": 36
        }
      ]
    },
    {
      "cell_type": "code",
      "metadata": {
        "id": "DwV9E5W3yg-1",
        "colab_type": "code",
        "colab": {
          "base_uri": "https://localhost:8080/",
          "height": 198
        },
        "outputId": "aa4d19a0-d1af-4dbe-ea67-b83ed76edf82"
      },
      "source": [
        "df.tail()"
      ],
      "execution_count": 37,
      "outputs": [
        {
          "output_type": "execute_result",
          "data": {
            "text/html": [
              "<div>\n",
              "<style scoped>\n",
              "    .dataframe tbody tr th:only-of-type {\n",
              "        vertical-align: middle;\n",
              "    }\n",
              "\n",
              "    .dataframe tbody tr th {\n",
              "        vertical-align: top;\n",
              "    }\n",
              "\n",
              "    .dataframe thead th {\n",
              "        text-align: right;\n",
              "    }\n",
              "</style>\n",
              "<table border=\"1\" class=\"dataframe\">\n",
              "  <thead>\n",
              "    <tr style=\"text-align: right;\">\n",
              "      <th></th>\n",
              "      <th>title</th>\n",
              "      <th>text</th>\n",
              "      <th>related</th>\n",
              "    </tr>\n",
              "  </thead>\n",
              "  <tbody>\n",
              "    <tr>\n",
              "      <th>512</th>\n",
              "      <td>Denial of Service</td>\n",
              "      <td>In computing, a denial-of-service attack (DoS ...</td>\n",
              "      <td>(Application layer DDoS attack, BASHLITE, Bill...</td>\n",
              "    </tr>\n",
              "    <tr>\n",
              "      <th>513</th>\n",
              "      <td>Data Analytics</td>\n",
              "      <td>Numerical analysis · Simulation\\n Finite eleme...</td>\n",
              "      <td>(Actuarial science, Analytics, Big data, Busin...</td>\n",
              "    </tr>\n",
              "    <tr>\n",
              "      <th>514</th>\n",
              "      <td>Unified Modelling Language</td>\n",
              "      <td>The Unified Modeling Language (UML) is a gener...</td>\n",
              "      <td>(Applications of UML, Business Process Model a...</td>\n",
              "    </tr>\n",
              "    <tr>\n",
              "      <th>515</th>\n",
              "      <td>Modular Programming</td>\n",
              "      <td>Modular programming is a software design techn...</td>\n",
              "      <td>(Architecture description language, Cohesion (...</td>\n",
              "    </tr>\n",
              "    <tr>\n",
              "      <th>516</th>\n",
              "      <td>Dependency Hell</td>\n",
              "      <td>Dependency hell is a colloquial term for the f...</td>\n",
              "      <td>(None, None, Dynamic dead code elimination, Pa...</td>\n",
              "    </tr>\n",
              "  </tbody>\n",
              "</table>\n",
              "</div>"
            ],
            "text/plain": [
              "                          title  ...                                            related\n",
              "512           Denial of Service  ...  (Application layer DDoS attack, BASHLITE, Bill...\n",
              "513              Data Analytics  ...  (Actuarial science, Analytics, Big data, Busin...\n",
              "514  Unified Modelling Language  ...  (Applications of UML, Business Process Model a...\n",
              "515         Modular Programming  ...  (Architecture description language, Cohesion (...\n",
              "516             Dependency Hell  ...  (None, None, Dynamic dead code elimination, Pa...\n",
              "\n",
              "[5 rows x 3 columns]"
            ]
          },
          "metadata": {
            "tags": []
          },
          "execution_count": 37
        }
      ]
    },
    {
      "cell_type": "code",
      "metadata": {
        "id": "iPOpdRDEzD23",
        "colab_type": "code",
        "colab": {
          "base_uri": "https://localhost:8080/",
          "height": 173
        },
        "outputId": "fb690b97-42ae-4af1-9454-7e1511eccb57"
      },
      "source": [
        "# Stats on text of articles\n",
        "df['text'].apply(lambda x: len(x)).describe()"
      ],
      "execution_count": 38,
      "outputs": [
        {
          "output_type": "execute_result",
          "data": {
            "text/plain": [
              "count      517.000000\n",
              "mean     12742.305609\n",
              "std      10718.301265\n",
              "min         17.000000\n",
              "25%       6531.000000\n",
              "50%      10733.000000\n",
              "75%      14999.000000\n",
              "max      74889.000000\n",
              "Name: text, dtype: float64"
            ]
          },
          "metadata": {
            "tags": []
          },
          "execution_count": 38
        }
      ]
    },
    {
      "cell_type": "code",
      "metadata": {
        "id": "EAnhGbrzzXWI",
        "colab_type": "code",
        "colab": {
          "base_uri": "https://localhost:8080/",
          "height": 69
        },
        "outputId": "7de06a7f-6e85-4dd2-8478-f22ba274e8f5"
      },
      "source": [
        "# How many articles have fewer than 1000 characters? \n",
        "# Will they be useful for training the model?\n",
        "df['text'].apply(lambda x: len(x) < 1000).value_counts()"
      ],
      "execution_count": 39,
      "outputs": [
        {
          "output_type": "execute_result",
          "data": {
            "text/plain": [
              "False    491\n",
              "True      26\n",
              "Name: text, dtype: int64"
            ]
          },
          "metadata": {
            "tags": []
          },
          "execution_count": 39
        }
      ]
    },
    {
      "cell_type": "code",
      "metadata": {
        "id": "DrJ-OD5A6Ehs",
        "colab_type": "code",
        "colab": {
          "base_uri": "https://localhost:8080/",
          "height": 198
        },
        "outputId": "05ecc132-659e-48d0-8d7d-8b6ea28e9605"
      },
      "source": [
        "df[df['text'].apply(lambda x: len(x) < 1000)].tail()"
      ],
      "execution_count": 40,
      "outputs": [
        {
          "output_type": "execute_result",
          "data": {
            "text/html": [
              "<div>\n",
              "<style scoped>\n",
              "    .dataframe tbody tr th:only-of-type {\n",
              "        vertical-align: middle;\n",
              "    }\n",
              "\n",
              "    .dataframe tbody tr th {\n",
              "        vertical-align: top;\n",
              "    }\n",
              "\n",
              "    .dataframe thead th {\n",
              "        text-align: right;\n",
              "    }\n",
              "</style>\n",
              "<table border=\"1\" class=\"dataframe\">\n",
              "  <thead>\n",
              "    <tr style=\"text-align: right;\">\n",
              "      <th></th>\n",
              "      <th>title</th>\n",
              "      <th>text</th>\n",
              "      <th>related</th>\n",
              "    </tr>\n",
              "  </thead>\n",
              "  <tbody>\n",
              "    <tr>\n",
              "      <th>439</th>\n",
              "      <td>Angular</td>\n",
              "      <td>Angular may refer to:</td>\n",
              "      <td>(Angle (disambiguation),)</td>\n",
              "    </tr>\n",
              "    <tr>\n",
              "      <th>460</th>\n",
              "      <td>Grunt</td>\n",
              "      <td>Grunt, grunts, or grunting may refer to:\\n Man...</td>\n",
              "      <td>(Grund (disambiguation), None, Grunty (disambi...</td>\n",
              "    </tr>\n",
              "    <tr>\n",
              "      <th>500</th>\n",
              "      <td>Apache OpenNLP</td>\n",
              "      <td>The Apache OpenNLP library is a machine learni...</td>\n",
              "      <td>(\\n,)</td>\n",
              "    </tr>\n",
              "    <tr>\n",
              "      <th>507</th>\n",
              "      <td>VerbNet</td>\n",
              "      <td>The VerbNet project maps PropBank verb types t...</td>\n",
              "      <td>(N, O, N, E)</td>\n",
              "    </tr>\n",
              "    <tr>\n",
              "      <th>516</th>\n",
              "      <td>Dependency Hell</td>\n",
              "      <td>Dependency hell is a colloquial term for the f...</td>\n",
              "      <td>(None, None, Dynamic dead code elimination, Pa...</td>\n",
              "    </tr>\n",
              "  </tbody>\n",
              "</table>\n",
              "</div>"
            ],
            "text/plain": [
              "               title  ...                                            related\n",
              "439          Angular  ...                          (Angle (disambiguation),)\n",
              "460            Grunt  ...  (Grund (disambiguation), None, Grunty (disambi...\n",
              "500   Apache OpenNLP  ...                                              (\\n,)\n",
              "507          VerbNet  ...                                       (N, O, N, E)\n",
              "516  Dependency Hell  ...  (None, None, Dynamic dead code elimination, Pa...\n",
              "\n",
              "[5 rows x 3 columns]"
            ]
          },
          "metadata": {
            "tags": []
          },
          "execution_count": 40
        }
      ]
    },
    {
      "cell_type": "code",
      "metadata": {
        "id": "kkyB0jQx0s0z",
        "colab_type": "code",
        "colab": {
          "base_uri": "https://localhost:8080/",
          "height": 122
        },
        "outputId": "f0461b86-ac48-4a21-cb4c-4e0430f0fb8b"
      },
      "source": [
        "# Peek into a specific article and see if the content looks okay.\n",
        "# https://en.wikipedia.org/wiki/Dependency_hell\n",
        "df['text'][516]"
      ],
      "execution_count": 41,
      "outputs": [
        {
          "output_type": "execute_result",
          "data": {
            "application/vnd.google.colaboratory.intrinsic": {
              "type": "string"
            },
            "text/plain": [
              "'Dependency hell is a colloquial term for the frustration of some software users who have installed software packages which have dependencies on specific versions of other software packages.[1]\\n The dependency issue arises around shared packages or libraries on which several other packages have dependencies but where they depend on different and incompatible versions of the shared packages. If the shared package or library can only be installed in a single version, the user may need to address the problem by obtaining newer or older versions of the dependent packages. This, in turn, may break other dependencies and push the problem to another set of packages.\\n Dependency hell takes several forms:\\n On specific computing platforms, \"dependency hell\" often goes by a local specific name, generally the name of components.'"
            ]
          },
          "metadata": {
            "tags": []
          },
          "execution_count": 41
        }
      ]
    },
    {
      "cell_type": "code",
      "metadata": {
        "id": "CXRrHYz8vuML",
        "colab_type": "code",
        "colab": {
          "base_uri": "https://localhost:8080/",
          "height": 173
        },
        "outputId": "1b2c814d-cb6b-4bc4-a0bd-6235eacaf7d6"
      },
      "source": [
        "# Stats on number of related articles per article\n",
        "numrelated = df['related'].apply(lambda x: len(x))\n",
        "numrelated.describe()"
      ],
      "execution_count": 42,
      "outputs": [
        {
          "output_type": "execute_result",
          "data": {
            "text/plain": [
              "count    517.000000\n",
              "mean       6.365571\n",
              "std        5.304654\n",
              "min        1.000000\n",
              "25%        4.000000\n",
              "50%        6.000000\n",
              "75%        6.000000\n",
              "max       42.000000\n",
              "Name: related, dtype: float64"
            ]
          },
          "metadata": {
            "tags": []
          },
          "execution_count": 42
        }
      ]
    },
    {
      "cell_type": "code",
      "metadata": {
        "id": "9GCfpXSt6mFl",
        "colab_type": "code",
        "colab": {
          "base_uri": "https://localhost:8080/",
          "height": 207
        },
        "outputId": "f40791a6-dfb0-4522-ec7a-ab291a446c00"
      },
      "source": [
        "numrelated.value_counts().head(10)"
      ],
      "execution_count": 43,
      "outputs": [
        {
          "output_type": "execute_result",
          "data": {
            "text/plain": [
              "6     201\n",
              "1      64\n",
              "4      60\n",
              "2      31\n",
              "5      25\n",
              "3      21\n",
              "7      19\n",
              "8      15\n",
              "10     14\n",
              "9      10\n",
              "Name: related, dtype: int64"
            ]
          },
          "metadata": {
            "tags": []
          },
          "execution_count": 43
        }
      ]
    },
    {
      "cell_type": "code",
      "metadata": {
        "id": "vIVhsRMAxChC",
        "colab_type": "code",
        "colab": {
          "base_uri": "https://localhost:8080/",
          "height": 55
        },
        "outputId": "652f0d6b-982e-4fd1-dd68-03a75c3e8519"
      },
      "source": [
        "max_related_idx = numrelated.idxmax()\n",
        "print(\"Article with maximum related articles:\", df['title'][max_related_idx], df['related'][max_related_idx])"
      ],
      "execution_count": 44,
      "outputs": [
        {
          "output_type": "stream",
          "text": [
            "Article with maximum related articles: Identity and Access Management ('Access control', 'Authentication', 'Authorization', 'Claims-based identity', 'Computer security', 'Digital card', 'Digital identity', 'Directory service', 'Dongle', 'Federated identity management', 'Hardware security module', 'Identity assurance', 'Identity driven networking', 'Identity management systems', 'Identity verification service', 'Identity provider', 'Identity-based security', 'Information privacy', 'Initiative For Open Authentication', 'List of single sign-on implementations', 'Loyalty card', 'Mobile identity management', 'Mobile signature', 'Multi-factor authentication', 'Mutual authentication', 'OAuth', 'Online identity management', 'OpenID', 'Password management', 'Personally Identifiable Information', 'Privileged identity management', 'RBAC', 'SAML 2.0', 'SAML-based products and services', 'Security token', 'Service provider', 'Single sign-on', 'Software token', 'Two-factor authentication', 'User modeling', None, 'Workflow application')\n"
          ],
          "name": "stdout"
        }
      ]
    },
    {
      "cell_type": "code",
      "metadata": {
        "id": "ifr8Wqf48gOm",
        "colab_type": "code",
        "colab": {
          "base_uri": "https://localhost:8080/",
          "height": 282
        },
        "outputId": "0f271fb4-f2a3-4d0a-8757-0961ca408c0d"
      },
      "source": [
        "numrelated.hist(bins=range(numrelated.max()+1))"
      ],
      "execution_count": 45,
      "outputs": [
        {
          "output_type": "execute_result",
          "data": {
            "text/plain": [
              "<matplotlib.axes._subplots.AxesSubplot at 0x7fe6d106c390>"
            ]
          },
          "metadata": {
            "tags": []
          },
          "execution_count": 45
        },
        {
          "output_type": "display_data",
          "data": {
            "image/png": "[encoded data removed]",
            "text/plain": [
              "<Figure size 432x288 with 1 Axes>"
            ]
          },
          "metadata": {
            "tags": [],
            "needs_background": "light"
          }
        }
      ]
    },
    {
      "cell_type": "code",
      "metadata": {
        "id": "xsqBqv1d97Jc",
        "colab_type": "code",
        "colab": {
          "base_uri": "https://localhost:8080/",
          "height": 52
        },
        "outputId": "4c3da8e9-d220-4a26-b43b-c74fc9a7cb2d"
      },
      "source": [
        "# Split the data for into train and test sets\n",
        "from sklearn.model_selection import train_test_split\n",
        "\n",
        "dtrain = {}\n",
        "dtest ={}\n",
        "\n",
        "if FULL_DEVO_TRAIN:\n",
        "  dtrain['text'], dtest['text'] = \\\n",
        "    data['text'][:], data['text'][:NUM_OF_DEVOPEDIA_ARTICLES]\n",
        "  dtrain['title'], dtest['title'] = \\\n",
        "    data['title'][:], data['title'][:NUM_OF_DEVOPEDIA_ARTICLES]\n",
        "  dtrain['related'], dtest['related'] = \\\n",
        "    data['related'][:], data['related'][:NUM_OF_DEVOPEDIA_ARTICLES]\n",
        "\n",
        "else:\n",
        "  dtrain['text'], dtest['text'], \\\n",
        "  dtrain['title'], dtest['title'], \\\n",
        "  dtrain['related'], dtest['related'] = \\\n",
        "    train_test_split(\n",
        "      data['text'], data['title'], data['related'],\n",
        "      test_size=0.2, random_state=88)\n",
        "\n",
        "print(\"Train set:\", {k: len(v) for k, v in dtrain.items()})\n",
        "print(\"Test set:\", {k: len(v) for k, v in dtest.items()})"
      ],
      "execution_count": 46,
      "outputs": [
        {
          "output_type": "stream",
          "text": [
            "Train set: {'text': 517, 'title': 517, 'related': 517}\n",
            "Test set: {'text': 225, 'title': 225, 'related': 225}\n"
          ],
          "name": "stdout"
        }
      ]
    },
    {
      "cell_type": "code",
      "metadata": {
        "id": "ZKApVdLbQ_Po",
        "colab_type": "code",
        "colab": {}
      },
      "source": [
        "# Create aliases of the data\n",
        "titles = dtrain['title']\n",
        "doclist = dtrain['text']\n",
        "related = dtrain['related']"
      ],
      "execution_count": 47,
      "outputs": []
    },
    {
      "cell_type": "markdown",
      "metadata": {
        "id": "KaC0_uNDcUeA",
        "colab_type": "text"
      },
      "source": [
        "## Data Preprocessing"
      ]
    },
    {
      "cell_type": "code",
      "metadata": {
        "id": "S6oIOx1_1Dqe",
        "colab_type": "code",
        "colab": {
          "base_uri": "https://localhost:8080/",
          "height": 121
        },
        "outputId": "4b33b1e2-b323-4aae-b6f6-433e89e2fd1b"
      },
      "source": [
        "import nltk\n",
        "nltk.download('punkt')\n",
        "nltk.download('stopwords')\n",
        "nltk.download('wordnet')\n",
        "from nltk.corpus import stopwords\n",
        "from nltk.tokenize import word_tokenize, RegexpTokenizer\n",
        "from nltk.corpus import wordnet\n",
        "from nltk.stem import WordNetLemmatizer\n",
        "from nltk.stem.porter import PorterStemmer\n",
        "lemmatizer = WordNetLemmatizer()"
      ],
      "execution_count": 48,
      "outputs": [
        {
          "output_type": "stream",
          "text": [
            "[nltk_data] Downloading package punkt to /root/nltk_data...\n",
            "[nltk_data]   Package punkt is already up-to-date!\n",
            "[nltk_data] Downloading package stopwords to /root/nltk_data...\n",
            "[nltk_data]   Package stopwords is already up-to-date!\n",
            "[nltk_data] Downloading package wordnet to /root/nltk_data...\n",
            "[nltk_data]   Package wordnet is already up-to-date!\n"
          ],
          "name": "stdout"
        }
      ]
    },
    {
      "cell_type": "code",
      "metadata": {
        "id": "2Ad9fFfPEcDI",
        "colab_type": "code",
        "colab": {}
      },
      "source": [
        "from gensim.models.doc2vec import Doc2Vec, TaggedDocument\n",
        "from gensim.models.coherencemodel import CoherenceModel"
      ],
      "execution_count": 49,
      "outputs": []
    },
    {
      "cell_type": "code",
      "metadata": {
        "id": "Owhfr1ohR5c1",
        "colab_type": "code",
        "colab": {}
      },
      "source": [
        "contractions_dict = utils.read_json_file(\"data/contractions.json\")"
      ],
      "execution_count": 50,
      "outputs": []
    },
    {
      "cell_type": "code",
      "metadata": {
        "id": "ci_KHstnFIUQ",
        "colab_type": "code",
        "colab": {}
      },
      "source": [
        "import os.path\n",
        "import re\n",
        "from string import punctuation\n",
        "\n",
        "def preprocess_data(document):\n",
        "    \"\"\"\n",
        "    Input  : docuemnt list\n",
        "    Purpose: preprocess text (tokenize, removing stopwords, and stemming)\n",
        "    Output : preprocessed text\n",
        "    \"\"\"\n",
        "    # Create p_stemmer of class PorterStemmer\n",
        "    #p_stemmer = PorterStemmer()\n",
        "\n",
        "    # create lemmaizer for lemmatization\n",
        "    lemmatizer = WordNetLemmatizer()\n",
        "\n",
        "    # clean document string\n",
        "    document = utils.expand_contractions(document.lower(), contractions_dict)\n",
        "    document = re.sub(r\"$\\d+\\W+|\\b\\d+\\b|\\W+\\d+$\", \"\", document)\n",
        "    document=document.lower().replace('(',' ').replace(')',' ')\n",
        "    document=document.replace(',','').replace('.','').replace(':','').replace(';','')\n",
        "    document=document.replace('*',' ')\n",
        "    document=document.replace('_',' ')\n",
        "    document=document.replace('`',' ')\n",
        "    document=document.replace('\\'',' ')\n",
        "    document=document.replace('\\\"',' ')\n",
        "    punctuation_list=['[',']','*','\\'','\\`','!','?']\n",
        "    document = ''.join(c for c in document if c not in punctuation_list)\n",
        "    raw = document.lower()\n",
        "\n",
        "    # tokenize document string and filter tokens\n",
        "    #tokenizer = RegexpTokenizer(r'\\w+')\n",
        "    #tokens = tokenizer.tokenize(raw)\n",
        "    tokens = word_tokenize(raw)\n",
        "    en_stop = set(stopwords.words('english'))\n",
        "    stopped_tokens = [i for i in tokens if not i in en_stop]\n",
        "    lemma_tokens = [lemmatizer.lemmatize(i) for i in stopped_tokens]\n",
        "\n",
        "    return tuple(lemma_tokens)"
      ],
      "execution_count": 51,
      "outputs": []
    },
    {
      "cell_type": "code",
      "metadata": {
        "id": "HyrTtn5REq5C",
        "colab_type": "code",
        "colab": {
          "base_uri": "https://localhost:8080/",
          "height": 55
        },
        "outputId": "d910dbeb-7e51-497d-deaf-cb9de07aaf21"
      },
      "source": [
        "print(preprocess_data(doclist[300]))"
      ],
      "execution_count": 52,
      "outputs": [
        {
          "output_type": "stream",
          "text": [
            "('identity', 'management', 'idm', 'also', 'known', 'identity', 'access', 'management', 'iam', 'idam', 'framework', 'policy', 'technology', 'ensuring', 'proper', 'people', 'enterprise', 'appropriate', 'access', 'technology', 'resource', 'idm', 'system', 'fall', 'overarching', 'umbrella', 'security', 'data', 'management', 'identity', 'access', 'management', 'system', 'identify', 'authenticate', 'authorize', 'individual', 'utilizing', 'resource', 'also', 'hardware', 'application', 'employee', 'need', 'access', 'identity', 'access', 'management', 'solution', 'become', 'prevalent', 'critical', 'recent', 'year', 'regulatory', 'compliance', 'requirement', 'become', 'increasingly', 'rigorous', 'complex', 'address', 'need', 'ensure', 'appropriate', 'access', 'resource', 'across', 'increasingly', 'heterogeneous', 'technology', 'environment', 'meet', 'increasingly', 'rigorous', 'compliance', 'requirement', 'term', 'identity', 'management', 'idm', 'identity', 'access', 'management', 'used', 'interchangeably', 'area', 'identity', 'access', 'management', 'identity-management', 'system', 'product', 'application', 'platform', 'manage', 'identifying', 'ancillary', 'data', 'entity', 'include', 'individual', 'computer-related', 'hardware', 'software', 'application', 'idm', 'cover', 'issue', 'user', 'gain', 'identity', 'role', 'sometimes', 'permission', 'identity', 'grant', 'protection', 'identity', 'technology', 'supporting', 'protection', 'eg', 'network', 'protocol', 'digital', 'certificate', 'password', 'etc', 'identity', 'management', 'id', 'management', 'organizational', 'process', 'identifying', 'authenticating', 'authorizing', 'individual', 'group', 'people', 'access', 'application', 'system', 'network', 'associating', 'user', 'right', 'restriction', 'established', 'identity', 'identity', 'management', 'idm', 'task', 'controlling', 'information', 'user', 'computer', 'information', 'includes', 'information', 'authenticates', 'identity', 'user', 'information', 'describes', 'data', 'action', 'authorized', 'access', 'and/or', 'perform', 'also', 'includes', 'management', 'descriptive', 'information', 'user', 'information', 'accessed', 'modified', 'addition', 'user', 'managed', 'entity', 'typically', 'include', 'hardware', 'network', 'resource', 'even', 'application', 'digital', 'identity', 'entity', 'online', 'presence', 'encompassing', 'personal', 'identifying', 'information', 'pii', 'ancillary', 'information', 'see', 'oecd', 'nist', 'guideline', 'protecting', 'pii', 'interpreted', 'codification', 'identity', 'name', 'attribute', 'physical', 'instance', 'way', 'facilitates', 'processing', 'real-world', 'context', 'engineering', 'online', 'system', 'identity', 'management', 'involve', 'four', 'basic', 'function', 'general', 'model', 'identity', 'constructed', 'small', 'set', 'axiom', 'example', 'identity', 'given', 'namespace', 'unique', 'identity', 'bear', 'specific', 'relationship', 'corresponding', 'entity', 'real', 'world', 'axiomatic', 'model', 'express', 'pure', 'identity', 'sense', 'model', 'constrained', 'specific', 'application', 'context', 'general', 'entity', 'real', 'virtual', 'multiple', 'identity', 'identity', 'encompass', 'multiple', 'attribute', 'unique', 'within', 'given', 'name', 'space', 'diagram', 'illustrates', 'conceptual', 'relationship', 'identity', 'entity', 'well', 'identity', 'attribute', 'theoretical', 'practical', 'model', 'digital', 'identity', 'given', 'identity', 'object', 'consists', 'finite', 'set', 'property', 'attribute', 'value', 'property', 'record', 'information', 'object', 'either', 'purpose', 'external', 'model', 'operate', 'model', 'example', 'classification', 'retrieval', 'pure', 'identity', 'model', 'strictly', 'concerned', 'external', 'semantics', 'property', 'common', 'departure', 'pure', 'identity', 'practice', 'occurs', 'property', 'intended', 'assure', 'aspect', 'identity', 'example', 'digital', 'signature', 'software', 'token', 'model', 'may', 'use', 'internally', 'verify', 'aspect', 'identity', 'satisfaction', 'external', 'purpose', 'extent', 'model', 'express', 'semantics', 'internally', 'pure', 'model', 'contrast', 'situation', 'property', 'might', 'externally', 'used', 'purpose', 'information', 'security', 'managing', 'access', 'entitlement', 'simply', 'stored', 'maintained', 'retrieved', 'without', 'special', 'treatment', 'model', 'absence', 'external', 'semantics', 'within', 'model', 'qualifies', 'pure', 'identity', 'model', 'identity', 'management', 'defined', 'set', 'operation', 'given', 'identity', 'model', 'generally', 'set', 'capability', 'reference', 'practice', 'identity', 'management', 'often', 'expands', 'express', 'model', 'content', 'provisioned', 'reconciled', 'among', 'multiple', 'identity', 'model', 'user', 'access', 'enables', 'user', 'assume', 'specific', 'digital', 'identity', 'across', 'application', 'enables', 'access', 'control', 'assigned', 'evaluated', 'identity', 'use', 'single', 'identity', 'given', 'user', 'across', 'multiple', 'system', 'eas', 'task', 'administrator', 'user', 'simplifies', 'access', 'monitoring', 'verification', 'allows', 'organization', 'minimize', 'excessive', 'privilege', 'granted', 'one', 'user', 'user', 'access', 'tracked', 'initiation', 'termination', 'user', 'access', 'organization', 'deploy', 'identity', 'management', 'process', 'system', 'motivation', 'normally', 'primarily', 'manage', 'set', 'identity', 'rather', 'grant', 'appropriate', 'access', 'right', 'entity', 'via', 'identity', 'word', 'access', 'management', 'normally', 'motivation', 'identity', 'management', 'two', 'set', 'process', 'consequently', 'closely', 'related', 'organization', 'continue', 'add', 'service', 'internal', 'user', 'customer', 'many', 'service', 'require', 'identity', 'management', 'properly', 'provide', 'service', 'increasingly', 'identity', 'management', 'partitioned', 'application', 'function', 'single', 'identity', 'serve', 'many', 'even', 'organization', 'activity', 'internal', 'use', 'identity', 'management', 'evolving', 'control', 'access', 'digital', 'asset', 'including', 'device', 'network', 'equipment', 'server', 'portal', 'content', 'application', 'and/or', 'product', 'service', 'often', 'require', 'access', 'extensive', 'information', 'user', 'including', 'address', 'book', 'preference', 'entitlement', 'contact', 'information', 'since', 'much', 'information', 'subject', 'privacy', 'and/or', 'confidentiality', 'requirement', 'controlling', 'access', 'vital', 'identity', 'federation', 'comprises', 'one', 'system', 'share', 'user', 'access', 'allow', 'user', 'log', 'based', 'authenticating', 'one', 'system', 'participating', 'federation', 'trust', 'several', 'system', 'often', 'known', 'circle', 'trust', 'setup', 'one', 'system', 'act', 'identity', 'provider', 'idp', 'system', 'act', 'service', 'provider', 'sp', 'user', 'need', 'access', 'service', 'controlled', 'sp', 'first', 'authenticate', 'idp', 'upon', 'successful', 'authentication', 'idp', 'sends', 'secure', 'assertion', 'service', 'provider', 'saml', 'assertion', 'specified', 'using', 'mark', 'language', 'intended', 'describing', 'security', 'assertion', 'used', 'verifier', 'make', 'statement', 'relying', 'party', 'identity', 'claimant', 'saml', 'assertion', 'may', 'optionally', 'digitally', 'signed', 'addition', 'creation', 'deletion', 'modification', 'user', 'identity', 'data', 'either', 'assisted', 'self-service', 'identity', 'management', 'control', 'ancillary', 'entity', 'data', 'use', 'application', 'contact', 'information', 'location', 'putting', 'personal', 'information', 'onto', 'computer', 'network', 'necessarily', 'raise', 'privacy', 'concern', 'absent', 'proper', 'protection', 'data', 'may', 'used', 'implement', 'surveillance', 'society', 'taylor', 'lip', '&', 'organ', 'social', 'web', 'online', 'social', 'networking', 'service', 'make', 'heavy', 'use', 'identity', 'management', 'helping', 'user', 'decide', 'manage', 'access', 'personal', 'information', 'become', 'issue', 'broad', 'concern', 'gross', 'acquisti', '&', 'heinz', 'harv', 'error', 'target', 'citerefgrossacquistiheinz2008', 'help', 'taylor', 'identity', 'theft', 'happens', 'thief', 'gain', 'access', 'identity', 'information', '-', 'personal', 'detail', 'needed', 'get', 'access', 'bank', 'account', 'research', 'related', 'management', 'identity', 'cover', 'discipline', 'technology', 'social', 'science', 'humanity', 'law', 'within', 'seventh', 'research', 'framework', 'programme', 'european', 'union', 'several', 'new', 'project', 'related', 'identity', 'management', 'started', 'picos', 'project', 'investigates', 'develops', 'state-of-the-art', 'platform', 'providing', 'trust', 'privacy', 'identity', 'management', 'mobile', 'community', 'primelife', 'develops', 'concept', 'technology', 'help', 'individual', 'protect', 'autonomy', 'retain', 'control', 'personal', 'information', 'irrespective', 'activity', 'swift', 'focus', 'extending', 'identity', 'function', 'federation', 'network', 'addressing', 'usability', 'privacy', 'concern', 'leverage', 'identity', 'technology', 'key', 'integrate', 'service', 'transport', 'infrastructure', 'benefit', 'user', 'provider', 'ongoing', 'project', 'include', 'future', 'identity', 'information', 'society', 'fidis', 'guide', 'prime', 'academic', 'journal', 'publish', 'article', 'related', 'identity', 'management', 'include', 'le', 'specialized', 'journal', 'publish', 'topic', 'instance', 'special', 'issue', 'identity', 'iso', 'specifically', 'iso/iec', 'jtc1', 'sc27', 'security', 'technique', 'wg5', 'identity', 'access', 'management', 'privacy', 'technique', 'conducting', 'standardization', 'work', 'identity', 'management', 'iso', 'elaboration', 'framework', 'identity', 'management', 'including', 'definition', 'identity-related', 'term', 'published', 'standard', 'current', 'work', 'item', 'includes', 'following', 'organization', 'normally', 'role', 'department', 'responsible', 'managing', 'schema', 'digital', 'identity', 'staff', 'object', 'represented', 'object', 'identity', 'object', 'identifier', 'oid', 'organizational', 'policy', 'process', 'procedure', 'related', 'oversight', 'identity', 'management', 'sometime', 'referred', 'identity', 'governance', 'administration', 'iga', 'commercial', 'software', 'tool', 'exist', 'help', 'automate', 'simplify', 'organisational-level', 'identity', 'management', 'function', 'effectively', 'appropriately', 'tool', 'used', 'fall', 'within', 'scope', 'broader', 'governance', 'risk', 'management', 'compliance', 'regime', 'since', 'identity', 'access', 'management', 'professional', 'professional', 'organization', 'idpro', 'committee', 'initiated', 'publication', 'annotated', 'bibliography', 'listing', 'number', 'important', 'publication', 'book', 'presentation', 'video')\n"
          ],
          "name": "stdout"
        }
      ]
    },
    {
      "cell_type": "code",
      "metadata": {
        "id": "uGuvUbOv1KnO",
        "colab_type": "code",
        "colab": {}
      },
      "source": [
        "#tagged_data = [TaggedDocument(words=word_tokenize(_d.lower()), tags=[str(i)]) for i, _d in enumerate(doclist)]\n",
        "#tagged_data = [TaggedDocument(words=preprocess_data(_d), tags=[str(i)]) for i, _d in enumerate(doclist)]\n",
        "#tagged_data[758]"
      ],
      "execution_count": 53,
      "outputs": []
    },
    {
      "cell_type": "code",
      "metadata": {
        "id": "hgrnFttuiWyd",
        "colab_type": "code",
        "colab": {}
      },
      "source": [
        "ppdata = []\n",
        "tagged_ppdata = []\n",
        "for i, d in enumerate(data['text']):\n",
        "  ppd = preprocess_data(d)\n",
        "  ppdata.append(ppd)\n",
        "  tagged_ppdata.append(TaggedDocument(words=ppd, tags=[str(i)]))"
      ],
      "execution_count": 54,
      "outputs": []
    },
    {
      "cell_type": "code",
      "metadata": {
        "id": "50Q9o1u3_noy",
        "colab_type": "code",
        "colab": {}
      },
      "source": [
        "# Just checking if data is the way we expect\n",
        "assert(ppdata[100] == tagged_ppdata[100][0])"
      ],
      "execution_count": 55,
      "outputs": []
    },
    {
      "cell_type": "markdown",
      "metadata": {
        "id": "g6Oy7DJw933G",
        "colab_type": "text"
      },
      "source": [
        "## Modelling"
      ]
    },
    {
      "cell_type": "code",
      "metadata": {
        "id": "UdpcLnxh1vlC",
        "colab_type": "code",
        "colab": {}
      },
      "source": [
        "model = Doc2Vec(vector_size=EMB_DIM,\n",
        "                alpha=alpha,\n",
        "                min_alpha=alpha,\n",
        "                min_count=2,\n",
        "                dm =0,dbow_words=1)\n",
        "\n",
        "model.build_vocab(tagged_ppdata)"
      ],
      "execution_count": 56,
      "outputs": []
    },
    {
      "cell_type": "code",
      "metadata": {
        "id": "DzRvH2lc1xMn",
        "colab_type": "code",
        "colab": {
          "base_uri": "https://localhost:8080/",
          "height": 466,
          "referenced_widgets": [
            "eb53b6c54e7d4c43b979eac72efc5836",
            "0e6968535c304e2f9c32edd6b6e9fc7a",
            "44706da1106d441baf9091cf96457b9c",
            "fc995e4257b14fc692509ca42004f445",
            "f44a1c5486d0492091e0a1812356dd7b",
            "c03d2a18d9334fd69a0168546bb81524",
            "4a1a8483e694403fb12658084ad38c4f",
            "d3ab26d58bdf44f2ab3a0bf17cec6b60"
          ]
        },
        "outputId": "aed2163d-c387-4304-ca57-fe215f05dd70"
      },
      "source": [
        "from tqdm.auto import tqdm\n",
        "import numpy as np\n",
        "from sklearn.metrics.pairwise import cosine_similarity as cosim\n",
        "\n",
        "\n",
        "ref_vec1=[]\n",
        "ref_vec2=[]\n",
        "for epoch in tqdm(range(MAX_EPOCHS), initial=1):\n",
        "  model.train(tagged_ppdata,\n",
        "              total_examples=model.corpus_count,\n",
        "              epochs=epoch)\n",
        "\n",
        "  if DEBUG_LEVEL:\n",
        "    ref_vec1.append(model.docvecs[str(45)])\n",
        "    ff1 = model.infer_vector(list(ppdata[45]))\n",
        "    ref_vec2.append(model.docvecs[str(145)])\n",
        "    ff2 = model.infer_vector(list(ppdata[145]))\n",
        "    if epoch > 0:\n",
        "      a = cosim([ref_vec1[epoch]], [ref_vec1[epoch-1]])[0][0]\n",
        "      b = cosim([ff1], [ref_vec1[epoch]])[0][0]\n",
        "      c = cosim([ref_vec2[epoch]], [ref_vec2[epoch-1]])[0][0]\n",
        "      d = cosim([ff2], [ref_vec2[epoch]])[0][0]\n",
        "      print(\"\\tEpoch {:3d}: {:.6f} {:.6f} {:.6f} {:.6f} {:.6f}\".format(epoch+1, a, b, c, d, model.alpha))\n",
        "\n",
        "    # decrease the learning rate\n",
        "    model.alpha -= ALPHA_STEP\n",
        "    model.alpha = max(model.alpha, MIN_ALPHA)\n",
        "\n",
        "    # fix the learning rate, no decay\n",
        "    model.min_alpha = model.alpha\n",
        "    \n",
        "model.save(\"d2v.model\")\n",
        "print(\"Model Saved\")"
      ],
      "execution_count": 57,
      "outputs": [
        {
          "output_type": "display_data",
          "data": {
            "application/vnd.jupyter.widget-view+json": {
              "model_id": "eb53b6c54e7d4c43b979eac72efc5836",
              "version_minor": 0,
              "version_major": 2
            },
            "text/plain": [
              "HBox(children=(FloatProgress(value=0.0, max=20.0), HTML(value='')))"
            ]
          },
          "metadata": {
            "tags": []
          }
        },
        {
          "output_type": "stream",
          "text": [
            "\tEpoch   2: 1.000000 0.520127 1.000000 0.646172 0.024000\n",
            "\tEpoch   3: 1.000000 0.822722 1.000000 0.817046 0.023000\n",
            "\tEpoch   4: 1.000000 0.890817 1.000000 0.869567 0.022000\n",
            "\tEpoch   5: 1.000000 0.923477 1.000000 0.926454 0.021000\n",
            "\tEpoch   6: 1.000000 0.939594 1.000000 0.906566 0.020000\n",
            "\tEpoch   7: 1.000000 0.941640 1.000000 0.935005 0.019000\n",
            "\tEpoch   8: 1.000000 0.954831 1.000000 0.926061 0.018000\n",
            "\tEpoch   9: 1.000000 0.940687 1.000000 0.936337 0.017000\n",
            "\tEpoch  10: 1.000000 0.957016 1.000000 0.945434 0.016000\n",
            "\tEpoch  11: 1.000000 0.946135 1.000000 0.933116 0.015000\n",
            "\tEpoch  12: 1.000000 0.951316 1.000000 0.949157 0.014000\n",
            "\tEpoch  13: 1.000000 0.952798 1.000000 0.946892 0.013000\n",
            "\tEpoch  14: 1.000000 0.954704 1.000000 0.943761 0.012000\n",
            "\tEpoch  15: 1.000000 0.950581 1.000000 0.956715 0.011000\n",
            "\tEpoch  16: 1.000000 0.942218 1.000000 0.953645 0.010000\n",
            "\tEpoch  17: 1.000000 0.962998 1.000000 0.956806 0.009000\n",
            "\tEpoch  18: 1.000000 0.962543 1.000000 0.971629 0.008000\n",
            "\tEpoch  19: 1.000000 0.971032 1.000000 0.972566 0.007000\n",
            "\tEpoch  20: 1.000000 0.965105 1.000000 0.972414 0.006000\n",
            "\n"
          ],
          "name": "stdout"
        },
        {
          "output_type": "stream",
          "text": [
            "/usr/local/lib/python3.6/dist-packages/smart_open/smart_open_lib.py:253: UserWarning: This function is deprecated, use smart_open.open instead. See the migration notes for details: https://github.com/RaRe-Technologies/smart_open/blob/master/README.rst#migrating-to-the-new-open-function\n",
            "  'See the migration notes for details: %s' % _MIGRATION_NOTES_URL\n"
          ],
          "name": "stderr"
        },
        {
          "output_type": "stream",
          "text": [
            "Model Saved\n"
          ],
          "name": "stdout"
        }
      ]
    },
    {
      "cell_type": "markdown",
      "metadata": {
        "id": "UWVforQkd2ee",
        "colab_type": "text"
      },
      "source": [
        "## Prediction"
      ]
    },
    {
      "cell_type": "code",
      "metadata": {
        "id": "BK8tEvqlHvRZ",
        "colab_type": "code",
        "colab": {
          "base_uri": "https://localhost:8080/",
          "height": 72
        },
        "outputId": "f1113b58-d6de-46aa-8755-4f185b4ed485"
      },
      "source": [
        "# Load the saved model\n",
        "model = Doc2Vec.load(\"d2v.model\")\n",
        "model.alpha = MIN_ALPHA"
      ],
      "execution_count": 58,
      "outputs": [
        {
          "output_type": "stream",
          "text": [
            "/usr/local/lib/python3.6/dist-packages/smart_open/smart_open_lib.py:253: UserWarning: This function is deprecated, use smart_open.open instead. See the migration notes for details: https://github.com/RaRe-Technologies/smart_open/blob/master/README.rst#migrating-to-the-new-open-function\n",
            "  'See the migration notes for details: %s' % _MIGRATION_NOTES_URL\n"
          ],
          "name": "stderr"
        }
      ]
    },
    {
      "cell_type": "code",
      "metadata": {
        "id": "qw0Bt32EH8d5",
        "colab_type": "code",
        "colab": {
          "base_uri": "https://localhost:8080/",
          "height": 35
        },
        "outputId": "9ccfa6c2-f9b2-4801-e4b3-22e968f6fa27"
      },
      "source": [
        "# Some initalizations\n",
        "fields = ('ref doc', 'predicted see also', 'predicted metric', 'wiki see also', 'predicted metric for wiki', 'Success')\n",
        "#fields = ('ref doc', 'predicted see also[JS]', 'predicted metric[JS]', 'predicted see also[HM]', 'predicted metric[HM]', 'wiki see also','predicted metric for wiki[JS]','predicted metric for wiki[HM]')\n",
        "#fields = ('ref doc', 'predicted see also[JS]', 'predicted metric[JS]', 'predicted see also[HM]', 'predicted metric[HM]')\n",
        "\n",
        "titles1_full=np.array(data['title'])\n",
        "titles1_train=np.array(dtrain['title'])\n",
        "titles1_test=np.array(dtest['title'])\n",
        "print(\"Full/Train/Test:\", len(titles1_full), len(titles1_train), len(titles1_test))"
      ],
      "execution_count": 59,
      "outputs": [
        {
          "output_type": "stream",
          "text": [
            "Full/Train/Test: 517 517 225\n"
          ],
          "name": "stdout"
        }
      ]
    },
    {
      "cell_type": "code",
      "metadata": {
        "id": "U1vLz_JGJS0R",
        "colab_type": "code",
        "colab": {
          "base_uri": "https://localhost:8080/",
          "height": 429,
          "referenced_widgets": [
            "2dcd8a809cc4473e996eae750579d098",
            "64726dbc39b343ccaf740899a02e2d7d",
            "28851c31aa4c4696a3c1739e905da750",
            "bb4965baea0c444f9b31d14ac004ac12",
            "8a38eefaadbd4554b0218db85d5ac92e",
            "70ef0904fe494790802f05e8d0d3289f",
            "aab71cf94923495cbce65c51009fe4a5",
            "0f304fea935e41ffb11e0a5bc86d5596"
          ]
        },
        "outputId": "ad639f03-0a16-44fa-aa19-e763f8deb403"
      },
      "source": [
        "# Compute the distribution vectors for all data (wiki+devopedia)\n",
        "docvecs=[]\n",
        "docvecs2=[]\n",
        "docnames=[]\n",
        "for ref_id, _ in tqdm(enumerate(titles1_full), total=len(titles1_full), initial=1):\n",
        "  docvecs2.append(model.docvecs[str(ref_id)])\n",
        "  docvecs.append(model.infer_vector(list(ppdata[ref_id])))\n",
        "\n",
        "  docnames.append(titles1_full[ref_id]) \n",
        "  \n",
        "  if DEBUG_LEVEL == 2:\n",
        "    v1 = model.docvecs[str(ref_id)]\n",
        "    v2 = model.infer_vector(list(tagged_ppdata[ref_id][0]),alpha=MIN_ALPHA,min_alpha=MIN_ALPHA,epochs=100)\n",
        "    v3 = model.infer_vector(list(ppdata[ref_id]),alpha=MIN_ALPHA,min_alpha=MIN_ALPHA,epochs=100)\n",
        "    if ref_id % 25 == 0:\n",
        "      a = cosim([v1],[v2])[0][0]\n",
        "      b = cosim([v1],[v3])[0][0]\n",
        "      c = cosim([v2],[v3])[0][0]\n",
        "      print(\"\\tref_id {:3d}: {:.6f} {:.6f} {:.6f}\".format(ref_id, a, b, c))"
      ],
      "execution_count": 60,
      "outputs": [
        {
          "output_type": "display_data",
          "data": {
            "application/vnd.jupyter.widget-view+json": {
              "model_id": "2dcd8a809cc4473e996eae750579d098",
              "version_minor": 0,
              "version_major": 2
            },
            "text/plain": [
              "HBox(children=(FloatProgress(value=0.0, max=517.0), HTML(value='')))"
            ]
          },
          "metadata": {
            "tags": []
          }
        },
        {
          "output_type": "stream",
          "text": [
            "\tref_id   0: 0.978657 0.978433 0.999937\n",
            "\tref_id  25: 0.930461 0.930236 0.999926\n",
            "\tref_id  50: 0.956936 0.956920 0.999910\n",
            "\tref_id  75: 0.959481 0.958829 0.999912\n",
            "\tref_id 100: 0.946268 0.945719 0.999920\n",
            "\tref_id 125: 0.938160 0.939048 0.999938\n",
            "\tref_id 150: 0.944024 0.946094 0.999929\n",
            "\tref_id 175: 0.951149 0.950024 0.999891\n",
            "\tref_id 200: 0.927185 0.926491 0.999922\n",
            "\tref_id 225: 0.827641 0.826841 0.999820\n",
            "\tref_id 250: 0.953897 0.952848 0.999930\n",
            "\tref_id 275: 0.956953 0.956703 0.999912\n",
            "\tref_id 300: 0.940208 0.940509 0.999905\n",
            "\tref_id 325: 0.977263 0.977474 0.999955\n",
            "\tref_id 350: 0.978069 0.977907 0.999939\n",
            "\tref_id 375: 0.917846 0.917009 0.999954\n",
            "\tref_id 400: 0.859459 0.860526 0.999865\n",
            "\tref_id 425: 0.959462 0.959423 0.999916\n",
            "\tref_id 450: 0.946517 0.946042 0.999942\n",
            "\tref_id 475: 0.974362 0.974587 0.999944\n",
            "\tref_id 500: 0.744964 0.746163 0.999828\n",
            "\n"
          ],
          "name": "stdout"
        }
      ]
    },
    {
      "cell_type": "code",
      "metadata": {
        "id": "uAAKuoxx4-mK",
        "colab_type": "code",
        "colab": {
          "base_uri": "https://localhost:8080/",
          "height": 66,
          "referenced_widgets": [
            "540d9fc896c9407f84e99710f50f9a3c",
            "352647f7b4c0408ebe10256485eeb03b",
            "2fe80487e0584a3ab1dbed6d265cbd56",
            "bd3521b0a10e468cbcc0835cb2263e24",
            "2ad485d4bd344daea960e426650a5da5",
            "0bb170744ea34675a00405a5ce727fd2",
            "cf6659418ce84a3097ac40e39c033088",
            "241585d484a04c45b33594780a5b1350"
          ]
        },
        "outputId": "7de3c67e-697f-4abf-917f-27f0b290dbf2"
      },
      "source": [
        "# Compute the metric and dump the results based on the metric \n",
        "# Compute the see also for the wiki only data  \n",
        "TOPK = 10\n",
        "cos_sim2 = []\n",
        "resultsDict = {}\n",
        "for ref_id, _ in tqdm(enumerate(titles1_test), total=len(titles1_test), initial=1):\n",
        "  cos_sim1 = []\n",
        "  cos_sim2.append(cosim([docvecs[ref_id]], [docvecs2[ref_id]])[0][0])\n",
        "  for docid, _ in enumerate(titles1_full):\n",
        "    if docnames[docid] == docnames[ref_id]:\n",
        "      cos_sim1.append(0)\n",
        "      continue\n",
        "    csim = cosim([docvecs[ref_id]], [docvecs[docid]])[0][0]\n",
        "    cos_sim1.append(csim)\n",
        "\n",
        "  cos_sim = np.array(cos_sim1)\n",
        "  top5idx = np.argpartition(cos_sim, -TOPK)[-TOPK:]\n",
        "  related1 = np.array(data['related'])\n",
        "  resultsDict.setdefault(fields[0], []).append(titles1_full[ref_id])\n",
        "  resultsDict.setdefault(fields[1], []).append(titles1_full[top5idx[:TOPK]])\n",
        "  resultsDict.setdefault(fields[2], []).append(cos_sim[top5idx[:TOPK]])\n",
        "\n",
        "  # Check the metric values for the see also present in the Dataset\n",
        "  if ref_id > len(titles1_test):\n",
        "    U = [S[2:] for S in related1[ref_id].split('\\n')]\n",
        "    U = U[1:-1]\n",
        "    if '' in U:\n",
        "      U = U[:U.index('')]\n",
        "  else:\n",
        "     U = related1[ref_id]   \n",
        "\n",
        "  overlap_idx = []\n",
        "  wikiseenames = []\n",
        "  wikiseemetrics = []\n",
        "  wikiseemetrics_hm = []\n",
        "\n",
        "  for item in U:\n",
        "    for idx, title in enumerate(data['title']):\n",
        "      if item == title:\n",
        "        overlap_idx.append(idx)\n",
        "        wikiseenames.append(title)\n",
        "        wikiseemetrics.append(cos_sim[idx])\n",
        "          \n",
        "  resultsDict.setdefault(fields[3], []).append(wikiseenames)\n",
        "  resultsDict.setdefault(fields[4], []).append(wikiseemetrics)\n",
        "  resultsDict.setdefault(fields[5], []).append(len([correct for correct in titles1_full[top5idx[:TOPK]] if correct in wikiseenames]))\n"
      ],
      "execution_count": 61,
      "outputs": [
        {
          "output_type": "display_data",
          "data": {
            "application/vnd.jupyter.widget-view+json": {
              "model_id": "540d9fc896c9407f84e99710f50f9a3c",
              "version_minor": 0,
              "version_major": 2
            },
            "text/plain": [
              "HBox(children=(FloatProgress(value=0.0, max=225.0), HTML(value='')))"
            ]
          },
          "metadata": {
            "tags": []
          }
        },
        {
          "output_type": "stream",
          "text": [
            "\n"
          ],
          "name": "stdout"
        }
      ]
    },
    {
      "cell_type": "code",
      "metadata": {
        "id": "zdVR4LgzN5M6",
        "colab_type": "code",
        "colab": {
          "base_uri": "https://localhost:8080/",
          "height": 35
        },
        "outputId": "b604f66d-b5c8-4202-e086-664930550c29"
      },
      "source": [
        "import random\n",
        "\n",
        "ref_id = random.randint(0,len(titles1_test));\n",
        "v1 = model.docvecs[str(ref_id)]\n",
        "v2 = model.infer_vector(list(tagged_ppdata[ref_id][0]))\n",
        "v3 = model.infer_vector(list(ppdata[ref_id]))\n",
        "\n",
        "a = cosim([v1],[v2])[0][0]\n",
        "b = cosim([v1],[v3])[0][0]\n",
        "c = cosim([v2],[v3])[0][0]\n",
        "print(\"ref_id {:3d}: {:.6f} {:.6f} {:.6f}\".format(ref_id, a, b, c))"
      ],
      "execution_count": 62,
      "outputs": [
        {
          "output_type": "stream",
          "text": [
            "ref_id  67: 0.960836 0.964839 0.997432\n"
          ],
          "name": "stdout"
        }
      ]
    },
    {
      "cell_type": "code",
      "metadata": {
        "id": "t-QjnPv-brK4",
        "colab_type": "code",
        "colab": {
          "base_uri": "https://localhost:8080/",
          "height": 282
        },
        "outputId": "caaa5089-e9ee-4004-eb00-3586e69f1068"
      },
      "source": [
        "import matplotlib.pyplot as plt\n",
        "\n",
        "plt.plot(cos_sim2)"
      ],
      "execution_count": 63,
      "outputs": [
        {
          "output_type": "execute_result",
          "data": {
            "text/plain": [
              "[<matplotlib.lines.Line2D at 0x7fe6cab05cf8>]"
            ]
          },
          "metadata": {
            "tags": []
          },
          "execution_count": 63
        },
        {
          "output_type": "display_data",
          "data": {
            "image/png": "[encoded data removed]",
            "text/plain": [
              "<Figure size 432x288 with 1 Axes>"
            ]
          },
          "metadata": {
            "tags": [],
            "needs_background": "light"
          }
        }
      ]
    },
    {
      "cell_type": "code",
      "metadata": {
        "id": "oZk9T2b9UyQp",
        "colab_type": "code",
        "colab": {}
      },
      "source": [
        "dictlist = [{\n",
        "    fields[0]: resultsDict[fields[0]][i],\n",
        "    fields[1]: resultsDict[fields[1]][i],\n",
        "    fields[2]: resultsDict[fields[2]][i],\n",
        "    fields[3]: resultsDict[fields[3]][i],\n",
        "    fields[4]: resultsDict[fields[4]][i],\n",
        "    fields[5]: resultsDict[fields[5]][i]} for i, _ in enumerate(titles1_test)]"
      ],
      "execution_count": 64,
      "outputs": []
    },
    {
      "cell_type": "code",
      "metadata": {
        "id": "ZzQ2QfTcln7w",
        "colab_type": "code",
        "colab": {}
      },
      "source": [
        "import csv\n",
        "\n",
        "filename = '/content/gdrive/My Drive/results_Doc2Vec_fulltrain_embdim'+str(EMB_DIM)+'_TOP'+str(TOPK)+'.csv'\n",
        "with open(filename, 'w') as csvfile:  \n",
        "    writer = csv.DictWriter(csvfile, fieldnames = fields)  \n",
        "    writer.writeheader()  \n",
        "    for data in dictlist:\n",
        "      writer.writerow(data)"
      ],
      "execution_count": 65,
      "outputs": []
    },
    {
      "cell_type": "code",
      "metadata": {
        "id": "ZPbh3ae3Yk9q",
        "colab_type": "code",
        "colab": {
          "base_uri": "https://localhost:8080/",
          "height": 296
        },
        "outputId": "4d09e74f-d29d-4e3f-9ab3-cdcc0d04fb96"
      },
      "source": [
        "import pandas as pd \n",
        "# Read data from file 'filename.csv' \n",
        "# (in the same directory that your python process is based)\n",
        "# Control delimiters, rows, column names with read_csv (see later) \n",
        "\n",
        "data1 = pd.read_csv(filename) \n",
        "print('Average number of correctly identified seel also [Doc2Vec] = ',\n",
        "      data1['Success'].sum()/len(titles1_test))\n",
        "Doc2vec_success=data1['Success']\n",
        "plt.plot(Doc2vec_success,'r-',label='Doc2Vec')\n",
        "plt.xlabel('Document ID')\n",
        "plt.ylabel('# of correctly identified see also')\n",
        "plt.legend()\n",
        "plt.show()"
      ],
      "execution_count": 66,
      "outputs": [
        {
          "output_type": "stream",
          "text": [
            "Average number of correctly identified seel also [Doc2Vec] =  2.0\n"
          ],
          "name": "stdout"
        },
        {
          "output_type": "display_data",
          "data": {
            "image/png": "[encoded data removed]",
            "text/plain": [
              "<Figure size 432x288 with 1 Axes>"
            ]
          },
          "metadata": {
            "tags": [],
            "needs_background": "light"
          }
        }
      ]
    },
    {
      "cell_type": "code",
      "metadata": {
        "id": "xseSM3yTU9h5",
        "colab_type": "code",
        "colab": {}
      },
      "source": [
        ""
      ],
      "execution_count": 66,
      "outputs": []
    }
  ]
}